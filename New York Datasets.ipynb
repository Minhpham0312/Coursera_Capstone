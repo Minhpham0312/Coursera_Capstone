{
    "nbformat_minor": 1, 
    "cells": [
        {
            "source": "# Datasets will be used for Capstone project\n## The Datasets I will use for Capstone project will includes:\n### The one we used for the lab, which will provide quick Foursquare API and coordinates of neighborhood. \n### NYC Crime Data - which can be found on both NYPD database and Kaggle: https://www.kaggle.com/adamschroeder/crimes-new-york-city. This data set has many different columns include case ID, complaint type, time, and where it happened. It has Longtitude and Latitude, and Borough name, which is a powerful data for connecting with data from Foursquare. Moreover, this dataset includes population throughout 5 borough, make it a better tool to create crime rate map. From the help of this dataset, I can create which neighbor will \n### This dataset inlcude coordinates, which will be the main point to connect both dataset and reveals which neighborhood will be best for my project.", 
            "cell_type": "markdown", 
            "metadata": {
                "collapsed": true
            }
        }, 
        {
            "execution_count": null, 
            "cell_type": "code", 
            "metadata": {}, 
            "outputs": [], 
            "source": ""
        }
    ], 
    "metadata": {
        "kernelspec": {
            "display_name": "Python 3.6", 
            "name": "python3", 
            "language": "python"
        }, 
        "language_info": {
            "mimetype": "text/x-python", 
            "nbconvert_exporter": "python", 
            "version": "3.6.8", 
            "name": "python", 
            "file_extension": ".py", 
            "pygments_lexer": "ipython3", 
            "codemirror_mode": {
                "version": 3, 
                "name": "ipython"
            }
        }
    }, 
    "nbformat": 4
}